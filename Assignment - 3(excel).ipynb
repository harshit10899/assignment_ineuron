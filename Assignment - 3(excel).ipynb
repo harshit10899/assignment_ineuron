{
 "cells": [
  {
   "cell_type": "markdown",
   "id": "e26c8282",
   "metadata": {},
   "source": [
    "# Advance Excel Assignment 3"
   ]
  },
  {
   "cell_type": "markdown",
   "id": "94eaacf0",
   "metadata": {},
   "source": [
    "# 1. How and when to use the AutoSum command in excel?"
   ]
  },
  {
   "cell_type": "markdown",
   "id": "003b30a1",
   "metadata": {},
   "source": [
    "If you need to sum a column or row of numbers, let Excel do the math for you.\n",
    "\n",
    "Select a cell next to the numbers you want to sum, click AutoSum on the Home tab, press Enter, and you’re done.\n",
    "\n",
    "When you click AutoSum, Excel automatically enters a formula (that uses the SUM function) to sum the numbers."
   ]
  },
  {
   "cell_type": "markdown",
   "id": "3c3bea26",
   "metadata": {},
   "source": [
    "# 2. What is the shortcut key to perform AutoSum?"
   ]
  },
  {
   "cell_type": "markdown",
   "id": "bfdb00cb",
   "metadata": {},
   "source": [
    "The Keyboard shortcut that makes it even faster: Alt+=. \n",
    "\n",
    "To use this shortcut, simply hold down the Alt key, then press the equals sign on your keyboard."
   ]
  },
  {
   "cell_type": "markdown",
   "id": "d9e2db8e",
   "metadata": {},
   "source": [
    "# 3. How do you get rid of Formula that omits adjacent cells?"
   ]
  },
  {
   "cell_type": "markdown",
   "id": "a5aef068",
   "metadata": {},
   "source": [
    "To turn off the notification \"Formula Omits Adjacent Cells\" you're getting, kindly follow the steps below:\n",
    "\n",
    "Open Excel and then click on File.\n",
    "\n",
    "Go to Options and then select Formulas.\n",
    "\n",
    "Look for Error checking rules and uncheck Formulas which omit cells in a region.\n",
    "\n",
    "Click OK.\n"
   ]
  },
  {
   "cell_type": "markdown",
   "id": "1748b6f6",
   "metadata": {},
   "source": [
    "# 4. How do you select non-adjacent cells in Excel 2016?"
   ]
  },
  {
   "cell_type": "markdown",
   "id": "dfe4a6d3",
   "metadata": {},
   "source": [
    "To select non-adjacent cells and cell ranges, hold Ctrl and select the cells.\n",
    "\n",
    "To select non-adjacent rows or columns, hold Ctrl and select the row or column numbers."
   ]
  },
  {
   "cell_type": "markdown",
   "id": "1c0a7c2c",
   "metadata": {},
   "source": [
    "# 5. What happens if you choose a column, hold down the Alt key and press the letters ocw in quick succession?"
   ]
  },
  {
   "cell_type": "markdown",
   "id": "b8c558d4",
   "metadata": {},
   "source": [
    "The column width or row height windows can be opened with keyboard shortcuts as well.\n",
    "\n",
    "Alt,O,C,W is the keyboard shortcut to open the Column Width window.\n",
    "\n",
    "The row height or column width will be applied to the rows or columns of all the cells that are currently selected.\n",
    "\n",
    "These are old shortcuts from Excel 2003, but they still work in the modern versions of Excel."
   ]
  },
  {
   "cell_type": "markdown",
   "id": "f4ac893e",
   "metadata": {},
   "source": [
    "# 6. If you right-click on a row reference number and click on Insert, where will the row be added?"
   ]
  },
  {
   "cell_type": "markdown",
   "id": "3bb22f2d",
   "metadata": {},
   "source": [
    "If we right-click on a row reference number and click on Insert, then a new row is inserted above the cell(s) you originally selected."
   ]
  },
  {
   "cell_type": "code",
   "execution_count": null,
   "id": "7187704a",
   "metadata": {},
   "outputs": [],
   "source": []
  }
 ],
 "metadata": {
  "kernelspec": {
   "display_name": "Python 3 (ipykernel)",
   "language": "python",
   "name": "python3"
  },
  "language_info": {
   "codemirror_mode": {
    "name": "ipython",
    "version": 3
   },
   "file_extension": ".py",
   "mimetype": "text/x-python",
   "name": "python",
   "nbconvert_exporter": "python",
   "pygments_lexer": "ipython3",
   "version": "3.9.7"
  }
 },
 "nbformat": 4,
 "nbformat_minor": 5
}
