{
 "cells": [
  {
   "cell_type": "markdown",
   "id": "62d43289",
   "metadata": {},
   "source": [
    "# Excel Assignment - 12\n"
   ]
  },
  {
   "cell_type": "markdown",
   "id": "7a079b50",
   "metadata": {},
   "source": [
    "## Dataset:\n"
   ]
  },
  {
   "cell_type": "markdown",
   "id": "3b3a15bd",
   "metadata": {},
   "source": [
    "https://docs.google.com/spreadsheets/d/1IRSEnmgz8Ro276-GslknRNk0zlrB5CZH1YrnT71kqFM/edit?usp=sharing"
   ]
  },
  {
   "cell_type": "markdown",
   "id": "37c29527",
   "metadata": {},
   "source": [
    "## 1. What is the total amount of stationary bought from Madhya Pradesh? "
   ]
  },
  {
   "cell_type": "markdown",
   "id": "6b2b2149",
   "metadata": {},
   "source": [
    "=SUMIF(C2:C187,\"Stationary\",D2:D187) +SUMIF(F2:F187,\"Madhya Pradesh\",D2:D187)"
   ]
  },
  {
   "cell_type": "markdown",
   "id": "88f82167",
   "metadata": {},
   "source": [
    "933487"
   ]
  },
  {
   "cell_type": "markdown",
   "id": "34ff6ea4",
   "metadata": {},
   "source": [
    "## 2. What is the total count of stationary bought from Tamilnadu? "
   ]
  },
  {
   "cell_type": "markdown",
   "id": "ba76f945",
   "metadata": {},
   "source": [
    "=COUNTIFS(F2:F187,\"Madhya Pradesh\",C2:C187,\"Stationary\")"
   ]
  },
  {
   "cell_type": "markdown",
   "id": "72dd554f",
   "metadata": {},
   "source": [
    "42"
   ]
  },
  {
   "cell_type": "markdown",
   "id": "a0dd01d7",
   "metadata": {},
   "source": [
    "## 3. What is the total amount spent on footwear?"
   ]
  },
  {
   "cell_type": "markdown",
   "id": "772246e3",
   "metadata": {},
   "source": [
    "=SUMIF(C2:C187,\"Footwear\",D2:D187)"
   ]
  },
  {
   "cell_type": "markdown",
   "id": "3579f603",
   "metadata": {},
   "source": [
    "194226"
   ]
  },
  {
   "cell_type": "markdown",
   "id": "3a5b7b93",
   "metadata": {},
   "source": [
    "## 4. What is the total amount of money spent for stationary in July? "
   ]
  },
  {
   "cell_type": "markdown",
   "id": "bb905357",
   "metadata": {},
   "source": [
    "=SUMIFS(D2:D187,C2:C187,\"Stationary\",E2:E187,\">=01-06-2016\",E2:E187,\"<=30-06-2016\")"
   ]
  },
  {
   "cell_type": "markdown",
   "id": "b7299c34",
   "metadata": {},
   "source": [
    "25848"
   ]
  },
  {
   "cell_type": "markdown",
   "id": "362da014",
   "metadata": {},
   "source": [
    "## 5. What is the count of footwear that is coming from Delhi? "
   ]
  },
  {
   "cell_type": "markdown",
   "id": "327be10b",
   "metadata": {},
   "source": [
    "=COUNTIFS(C2:C187,\"Footwear\",F2:F187,\"Delhi\")"
   ]
  },
  {
   "cell_type": "markdown",
   "id": "833a6c36",
   "metadata": {},
   "source": [
    "2"
   ]
  }
 ],
 "metadata": {
  "kernelspec": {
   "display_name": "Python 3 (ipykernel)",
   "language": "python",
   "name": "python3"
  },
  "language_info": {
   "codemirror_mode": {
    "name": "ipython",
    "version": 3
   },
   "file_extension": ".py",
   "mimetype": "text/x-python",
   "name": "python",
   "nbconvert_exporter": "python",
   "pygments_lexer": "ipython3",
   "version": "3.9.7"
  }
 },
 "nbformat": 4,
 "nbformat_minor": 5
}
