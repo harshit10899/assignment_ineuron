{
 "cells": [
  {
   "cell_type": "markdown",
   "id": "6e2ef3e1",
   "metadata": {},
   "source": [
    "# Advance Excel Assignment 5"
   ]
  },
  {
   "cell_type": "markdown",
   "id": "b947a866",
   "metadata": {},
   "source": [
    "## 1. How many types of conditions are available in conditional formatting on Excel?"
   ]
  },
  {
   "cell_type": "markdown",
   "id": "ad45dac1",
   "metadata": {},
   "source": [
    "You can include up to three different conditions on any cell or range of cells.\n",
    "For example your three conditions might be:\n",
    "\n",
    "0) If the number < 0 then shade the cell red.\n",
    "\n",
    "1) If the number = 0 then shade the cell orange.\n",
    "\n",
    "2) If the number > 0 then shade the cell green.\n",
    "\n"
   ]
  },
  {
   "cell_type": "markdown",
   "id": "5a6d3d94",
   "metadata": {},
   "source": [
    "## 2. How to insert border in Excel with Format Cells dialog?"
   ]
  },
  {
   "cell_type": "markdown",
   "id": "36a18724",
   "metadata": {},
   "source": [
    "The Format Cells dialog is the most effective method of adding borders in Excel. It gives you easy access to all the settings including the line color and thickness as well as a nice diagram preview.\n",
    "\n",
    "To insert a border via the Format Cells dialog, this is what you need to do:\n",
    "\n",
    "Select one or more cells to which you'd like to add borders.\n",
    "\n",
    "Open the Format Cells dialog box by doing one of the following:\n",
    "\n",
    "Click the down arrow next to the Borders button, and then click More Borders at the bottom of the drop-down list.\n",
    "\n",
    "Right click the selected cells and choose Format Cells… from the context menu.\n",
    "\n",
    "Press Ctrl+1 shortcut.\n",
    "The More Borders option in Excel\n",
    "\n",
    "In the Format Cells dialog box, switch to the Border tab and choose the line style and color first. And then, either use \n",
    "Presets to add the outside or inside borders or construct the desired border by selecting individual elements such as border top, bottom, right or left.\n",
    "\n",
    "The preview diagram will reflect the changes immediately.\n",
    "\n",
    "When done, click OK."
   ]
  },
  {
   "cell_type": "markdown",
   "id": "eb47699a",
   "metadata": {},
   "source": [
    "##  3. How to Format Numbers as Currency in Excel?"
   ]
  },
  {
   "cell_type": "markdown",
   "id": "ac61ea18",
   "metadata": {},
   "source": [
    "To quickly apply the Currency format, select the cell or range of cells that you want to format, and then press Ctrl+Shift+$.\n",
    "\n",
    "Like the Currency format, the Accounting format is used for monetary values. \n",
    "\n",
    "But, this format aligns the currency symbols and decimal points of numbers in a column."
   ]
  },
  {
   "cell_type": "markdown",
   "id": "72a82dc4",
   "metadata": {},
   "source": [
    "##  4. What are the steps to format numbers in Excel with the Percent style?"
   ]
  },
  {
   "cell_type": "markdown",
   "id": "7046c792",
   "metadata": {},
   "source": [
    "Display numbers as percentages :-\n",
    "\n",
    "On the Home tab, in the Number group, click the icon next to Number to display the Format Cells dialog box.\n",
    "\n",
    "Dialog Box Launcher in Number group\n",
    "\n",
    "In the Format Cells dialog box, in the Category list, click Percentage.\n",
    "\n",
    "Percentage category in the Format Cells dialog box\n",
    "\n",
    "In the Decimal places box, enter the number of decimal places that you want to display. For example, if you want to see 10% instead of 10.00%, enter 0 in the Decimal places box."
   ]
  },
  {
   "cell_type": "markdown",
   "id": "36b167fc",
   "metadata": {},
   "source": [
    "## 5. What is a shortcut to merge two or more cells in excel?"
   ]
  },
  {
   "cell_type": "markdown",
   "id": "37c4a4c2",
   "metadata": {},
   "source": [
    "Merge cells :- \n",
    "\n",
    "Click the first cell and press Shift while you click the last cell in the range you want to merge. Important: Make sure only one of the cells in the range has data.\n",
    "\n",
    "Click Home > Merge & Center.\n"
   ]
  },
  {
   "cell_type": "markdown",
   "id": "bae53157",
   "metadata": {},
   "source": [
    "## 6. How do you use text commands in Excel?"
   ]
  },
  {
   "cell_type": "markdown",
   "id": "d3032671",
   "metadata": {},
   "source": [
    "1.Left()\n",
    "\n",
    "You can use the Left function when you want to extract the leftmost characters from a string. Syntax =left(text, num_char)\n",
    "\n",
    "Similarly, you can also use the Right function to extract the rightmost characters from a string.\n",
    "\n",
    "\n",
    "2.  Len ()\n",
    "Len function in Excel helps you to know the length of a string that is number of characters in a string. Syntax = LEN(text)\n",
    "\n",
    "Note – Spaces are included while calculating length.\n",
    "\n",
    "\n",
    "3.  Mid ()\n",
    "Mid function in Excel is used to extract the characters from the middle of a string. Syntax = MID(text, start_char, num_chars)\n",
    "\n",
    "\n",
    "\n",
    "4.  Find ()\n",
    "Find function in Excel is used when you want to know the position of certain characters in a particular string. Syntax =FIND(find_text, within_text,[start_num])\n",
    "\n",
    "\n",
    "5.  Proper ()\n",
    "Proper function in Excel capitalizes each word in the string that is, it converts the case into proper case. Syntax =PROPER(Text)\n",
    "\n",
    "\n",
    "6.  Rept ()\n",
    "Rept function in Excel is used when you want a certain text to be repeated certain number of times. Syntax =REPT(Text, number_times)\n",
    "\n",
    "\n",
    "7. Trim()\n",
    "Trim function in Excel removes the unnecessary spaces from a particular string.\n",
    "Syntax =TRIM(Text )\n",
    "\n",
    "\n",
    "8.  Upper()\n",
    "Upper function in Excel converts the text into Upper case from lower case. Syntax =UPPER(Text )\n",
    "\n",
    "\n",
    "9.  Substitute ()\n",
    "Substitute function in Excel helps to replace existing text with a new text in a particular string. Syntax =SUBSTITUTE(text, old_text, new_text, instance number)\n",
    "\n",
    "\n",
    "10.  Concatenate ()\n",
    "Concatenate function in Excel helps to join the text of two or more cells. Syntax =CONCATENATE(text1, text2….)\n"
   ]
  }
 ],
 "metadata": {
  "kernelspec": {
   "display_name": "Python 3 (ipykernel)",
   "language": "python",
   "name": "python3"
  },
  "language_info": {
   "codemirror_mode": {
    "name": "ipython",
    "version": 3
   },
   "file_extension": ".py",
   "mimetype": "text/x-python",
   "name": "python",
   "nbconvert_exporter": "python",
   "pygments_lexer": "ipython3",
   "version": "3.9.7"
  }
 },
 "nbformat": 4,
 "nbformat_minor": 5
}
