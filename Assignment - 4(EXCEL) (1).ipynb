{
 "cells": [
  {
   "cell_type": "markdown",
   "id": "17a12cce",
   "metadata": {},
   "source": [
    "# Advance Excel Assignment 4"
   ]
  },
  {
   "cell_type": "markdown",
   "id": "a596961f",
   "metadata": {},
   "source": [
    "## 1. To use the ribbon commands, what menu and grouping of commands will you find the Insert and Delete command?"
   ]
  },
  {
   "cell_type": "markdown",
   "id": "a0b38e6a",
   "metadata": {},
   "source": [
    "Ribbon tab contains multiple commands logically sub-divided into groups.\n",
    "\n",
    "Ribbon group is a set of closely related commands normally performed as part of a larger task.\n",
    "\n",
    "Dialog launcher is a small arrow in the lower-right corner of a group that brings up more related commands. Dialog launchers appear in groups that contain more commands than available space.\n",
    "\n",
    "Command button is the button you click to perform a particular action.\n",
    "\n",
    "Insert – is used for adding different objects in a worksheet such as images, charts, PivotTables, hyperlinks, special symbols, equations, headers and footers."
   ]
  },
  {
   "cell_type": "markdown",
   "id": "3a404c6e",
   "metadata": {},
   "source": [
    "## 2. If you set a row height or column width to 0 (zero), what happens to the row and column?"
   ]
  },
  {
   "cell_type": "markdown",
   "id": "7fdfbbab",
   "metadata": {},
   "source": [
    "If you set a row height or column width to 0 (zero) it sets to the default width or height."
   ]
  },
  {
   "cell_type": "markdown",
   "id": "11480074",
   "metadata": {},
   "source": [
    "## 3. Is there a need to change the height and width in a cell? Why?"
   ]
  },
  {
   "cell_type": "markdown",
   "id": "bbc53b78",
   "metadata": {},
   "source": [
    "It is necessary to change width and height in excel to fit the data. Excel by default provide equal width and height with respect to columns and rows. Whenever we enter a lengthy data, few characters will get displayed and other will be present inside the cell but will be hidden to the user.\n"
   ]
  },
  {
   "cell_type": "markdown",
   "id": "f56f18d6",
   "metadata": {},
   "source": [
    "## 4. What is the keyboard shortcut to unhide rows?"
   ]
  },
  {
   "cell_type": "markdown",
   "id": "01cbeb8d",
   "metadata": {},
   "source": [
    "Press Ctrl + Shift + 9 (the fastest way).\n",
    "\n",
    "Select Unhide from the right-click menu (the easiest way that does not require remembering anything)."
   ]
  },
  {
   "cell_type": "markdown",
   "id": "0f39f56e",
   "metadata": {},
   "source": [
    "## 5. How to hide rows containing blank cells?"
   ]
  },
  {
   "cell_type": "markdown",
   "id": "4970e37e",
   "metadata": {},
   "source": [
    "Select the range that contains empty cells you want to hide.\n",
    "\n",
    "On the Home tab, in the Editing group, click Find & Select > Go To Special.\n",
    "\n",
    "In the Go To Special dialog box, select the Blanks radio button, and click OK. ...\n",
    "\n",
    "Press Ctrl + 9 to hide the corresponding rows."
   ]
  },
  {
   "cell_type": "markdown",
   "id": "03bcce93",
   "metadata": {},
   "source": [
    "## 6. What are the steps to hide the duplicate values using conditional formatting in excel? "
   ]
  },
  {
   "cell_type": "markdown",
   "id": "de4efadb",
   "metadata": {},
   "source": [
    "1. Select the range you want to hide duplicates. Here I select range A1:F11.\n",
    "\n",
    "\n",
    "2. Then click Conditional Formatting > Highlight Cells Rules > Duplicate Values under Home tab. See screenshot:\n",
    "\n",
    "\n",
    "3. In the Duplicate Values dialog box, select Custom Format in the values with drop-down list, and then click the OK button.\n",
    "\n",
    "\n",
    "4. In the Format Cells dialog box, go to the Font tab, and in the Color drop-down list, choose a font color which matches the background color of your selected range cell. And finally click the OK button. See screenshot:\n",
    "\n",
    "\n",
    "5. When it returns to the Duplicate Values dialog box, click the OK button. \n",
    "\n"
   ]
  }
 ],
 "metadata": {
  "kernelspec": {
   "display_name": "Python 3 (ipykernel)",
   "language": "python",
   "name": "python3"
  },
  "language_info": {
   "codemirror_mode": {
    "name": "ipython",
    "version": 3
   },
   "file_extension": ".py",
   "mimetype": "text/x-python",
   "name": "python",
   "nbconvert_exporter": "python",
   "pygments_lexer": "ipython3",
   "version": "3.9.7"
  }
 },
 "nbformat": 4,
 "nbformat_minor": 5
}
